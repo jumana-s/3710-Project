{
 "cells": [
  {
   "cell_type": "markdown",
   "metadata": {},
   "source": [
    "# Predict Disease by User Symptoms using Naive Bayes"
   ]
  },
  {
   "cell_type": "markdown",
   "metadata": {},
   "source": [
    "- User enters their symptoms\n",
    "- Train model using Bayes Algorithm and the Bernoulli classifier\n",
    "- Predict disease based on symptoms -> output the probability of disease\n",
    "- Can also check against a certain disease the user enters"
   ]
  },
  {
   "cell_type": "markdown",
   "metadata": {},
   "source": [
    "### Import Necessary Libraries"
   ]
  },
  {
   "cell_type": "code",
   "execution_count": 42,
   "metadata": {},
   "outputs": [],
   "source": [
    "import pandas as pd\n",
    "from sklearn.naive_bayes import BernoulliNB\n",
    "# to turn user symptoms into a valid list of 0s and 1s\n",
    "from Convert import to_valid_list"
   ]
  },
  {
   "cell_type": "markdown",
   "metadata": {},
   "source": [
    "### Import and Visualize Dataset \n",
    "- Dataset was based off of https://impact.dbmi.columbia.edu/~friedma/Projects/DiseaseSymptomKB/index.html\n",
    "- Original dataset is a list of diseases and associated symptoms\n",
    "- Created a new dataset using some of the information in the original dataset so symptoms associated with the disease will have a value of 1 and symptoms not associated with the disease will have a value of 0."
   ]
  },
  {
   "cell_type": "code",
   "execution_count": 43,
   "metadata": {},
   "outputs": [
    {
     "data": {
      "text/html": [
       "<div>\n",
       "<style scoped>\n",
       "    .dataframe tbody tr th:only-of-type {\n",
       "        vertical-align: middle;\n",
       "    }\n",
       "\n",
       "    .dataframe tbody tr th {\n",
       "        vertical-align: top;\n",
       "    }\n",
       "\n",
       "    .dataframe thead th {\n",
       "        text-align: right;\n",
       "    }\n",
       "</style>\n",
       "<table border=\"1\" class=\"dataframe\">\n",
       "  <thead>\n",
       "    <tr style=\"text-align: right;\">\n",
       "      <th></th>\n",
       "      <th>cough</th>\n",
       "      <th>fever</th>\n",
       "      <th>shortness of breath</th>\n",
       "      <th>pain chest</th>\n",
       "      <th>diarrhea</th>\n",
       "      <th>vomiting</th>\n",
       "      <th>unresponsiveness</th>\n",
       "      <th>asthenia</th>\n",
       "      <th>dyspnea</th>\n",
       "      <th>pain abdominal</th>\n",
       "      <th>...</th>\n",
       "      <th>cicatrisation</th>\n",
       "      <th>mediastinal shift</th>\n",
       "      <th>impaired cognition</th>\n",
       "      <th>snuffle</th>\n",
       "      <th>chill</th>\n",
       "      <th>headache</th>\n",
       "      <th>guaiac positive</th>\n",
       "      <th>decreased body weight</th>\n",
       "      <th>sore to touch</th>\n",
       "      <th>disease</th>\n",
       "    </tr>\n",
       "  </thead>\n",
       "  <tbody>\n",
       "    <tr>\n",
       "      <th>0</th>\n",
       "      <td>0</td>\n",
       "      <td>0</td>\n",
       "      <td>1</td>\n",
       "      <td>1</td>\n",
       "      <td>0</td>\n",
       "      <td>0</td>\n",
       "      <td>0</td>\n",
       "      <td>1</td>\n",
       "      <td>0</td>\n",
       "      <td>0</td>\n",
       "      <td>...</td>\n",
       "      <td>0</td>\n",
       "      <td>0</td>\n",
       "      <td>0</td>\n",
       "      <td>0</td>\n",
       "      <td>0</td>\n",
       "      <td>0</td>\n",
       "      <td>0</td>\n",
       "      <td>0</td>\n",
       "      <td>0</td>\n",
       "      <td>hypertensive disease</td>\n",
       "    </tr>\n",
       "    <tr>\n",
       "      <th>1</th>\n",
       "      <td>0</td>\n",
       "      <td>0</td>\n",
       "      <td>1</td>\n",
       "      <td>0</td>\n",
       "      <td>0</td>\n",
       "      <td>0</td>\n",
       "      <td>0</td>\n",
       "      <td>0</td>\n",
       "      <td>0</td>\n",
       "      <td>0</td>\n",
       "      <td>...</td>\n",
       "      <td>0</td>\n",
       "      <td>0</td>\n",
       "      <td>0</td>\n",
       "      <td>0</td>\n",
       "      <td>0</td>\n",
       "      <td>0</td>\n",
       "      <td>0</td>\n",
       "      <td>0</td>\n",
       "      <td>0</td>\n",
       "      <td>coronary heart disease</td>\n",
       "    </tr>\n",
       "    <tr>\n",
       "      <th>2</th>\n",
       "      <td>1</td>\n",
       "      <td>0</td>\n",
       "      <td>1</td>\n",
       "      <td>0</td>\n",
       "      <td>0</td>\n",
       "      <td>0</td>\n",
       "      <td>0</td>\n",
       "      <td>0</td>\n",
       "      <td>1</td>\n",
       "      <td>0</td>\n",
       "      <td>...</td>\n",
       "      <td>0</td>\n",
       "      <td>0</td>\n",
       "      <td>0</td>\n",
       "      <td>0</td>\n",
       "      <td>0</td>\n",
       "      <td>0</td>\n",
       "      <td>0</td>\n",
       "      <td>0</td>\n",
       "      <td>0</td>\n",
       "      <td>failure heart congestive</td>\n",
       "    </tr>\n",
       "    <tr>\n",
       "      <th>3</th>\n",
       "      <td>1</td>\n",
       "      <td>0</td>\n",
       "      <td>1</td>\n",
       "      <td>0</td>\n",
       "      <td>0</td>\n",
       "      <td>0</td>\n",
       "      <td>0</td>\n",
       "      <td>0</td>\n",
       "      <td>0</td>\n",
       "      <td>0</td>\n",
       "      <td>...</td>\n",
       "      <td>0</td>\n",
       "      <td>0</td>\n",
       "      <td>0</td>\n",
       "      <td>0</td>\n",
       "      <td>0</td>\n",
       "      <td>0</td>\n",
       "      <td>0</td>\n",
       "      <td>0</td>\n",
       "      <td>0</td>\n",
       "      <td>asthma</td>\n",
       "    </tr>\n",
       "    <tr>\n",
       "      <th>4</th>\n",
       "      <td>1</td>\n",
       "      <td>0</td>\n",
       "      <td>1</td>\n",
       "      <td>0</td>\n",
       "      <td>0</td>\n",
       "      <td>0</td>\n",
       "      <td>0</td>\n",
       "      <td>0</td>\n",
       "      <td>1</td>\n",
       "      <td>0</td>\n",
       "      <td>...</td>\n",
       "      <td>0</td>\n",
       "      <td>0</td>\n",
       "      <td>0</td>\n",
       "      <td>0</td>\n",
       "      <td>0</td>\n",
       "      <td>0</td>\n",
       "      <td>0</td>\n",
       "      <td>0</td>\n",
       "      <td>0</td>\n",
       "      <td>chronic obstructive airway disease</td>\n",
       "    </tr>\n",
       "  </tbody>\n",
       "</table>\n",
       "<p>5 rows × 74 columns</p>\n",
       "</div>"
      ],
      "text/plain": [
       "   cough  fever  shortness of breath  pain chest   diarrhea  vomiting  \\\n",
       "0      0      0                    1            1         0         0   \n",
       "1      0      0                    1            0         0         0   \n",
       "2      1      0                    1            0         0         0   \n",
       "3      1      0                    1            0         0         0   \n",
       "4      1      0                    1            0         0         0   \n",
       "\n",
       "   unresponsiveness  asthenia  dyspnea  pain abdominal  ...  cicatrisation  \\\n",
       "0                 0         1        0               0  ...              0   \n",
       "1                 0         0        0               0  ...              0   \n",
       "2                 0         0        1               0  ...              0   \n",
       "3                 0         0        0               0  ...              0   \n",
       "4                 0         0        1               0  ...              0   \n",
       "\n",
       "   mediastinal shift  impaired cognition  snuffle  chill  headache  \\\n",
       "0                  0                   0        0      0         0   \n",
       "1                  0                   0        0      0         0   \n",
       "2                  0                   0        0      0         0   \n",
       "3                  0                   0        0      0         0   \n",
       "4                  0                   0        0      0         0   \n",
       "\n",
       "   guaiac positive  decreased body weight  sore to touch  \\\n",
       "0                0                      0              0   \n",
       "1                0                      0              0   \n",
       "2                0                      0              0   \n",
       "3                0                      0              0   \n",
       "4                0                      0              0   \n",
       "\n",
       "                              disease  \n",
       "0                hypertensive disease  \n",
       "1              coronary heart disease  \n",
       "2            failure heart congestive  \n",
       "3                              asthma  \n",
       "4  chronic obstructive airway disease  \n",
       "\n",
       "[5 rows x 74 columns]"
      ]
     },
     "execution_count": 43,
     "metadata": {},
     "output_type": "execute_result"
    }
   ],
   "source": [
    "dataset = pd.read_csv('disease.csv')\n",
    "\n",
    "# display first five rows of dataset\n",
    "dataset.head()"
   ]
  },
  {
   "cell_type": "markdown",
   "metadata": {},
   "source": [
    "### Naive Bayes algorithm with Bernoulli Classifier \n",
    "- Function to find the probabilities of the features (user symptoms) belonging to each class (disease)\n",
    "- Bernoulli Classifier was used as the features are binary/boolean valued\n",
    "- The model is trained on the entire dataset, instead of a train dataset since we wanted every disease in the dataset to be included when considering the predictions and probabilities.\n",
    "- Parameters: \n",
    " - user_symptoms: list of symptoms entered by user\n",
    " - disease: \"All diseases\" (default if user doesn't choose anything from dropdown) or a specific disease in our dataset selected by user from the dropdown menu\n",
    "   - if \"All diseases\" is entered by user, this function will return the disease with the highest probabililty\n",
    "   - if a specific disease is selected by the user, this function will return the probability of the symptoms indicating that disease\n",
    "- Returns a statement with the disease and probability of symptoms indicating that disease"
   ]
  },
  {
   "cell_type": "code",
   "execution_count": 44,
   "metadata": {},
   "outputs": [],
   "source": [
    "def NaiveBayes(user_symptoms, disease):\n",
    "    \n",
    "    symptoms = to_valid_list(user_symptoms)\n",
    "    symptoms_list = [symptoms]\n",
    "    # load the datasets\n",
    "    # training dataset (includes all the data for all the diseases)\n",
    "\n",
    "    # X = features of dataset\n",
    "    X = dataset.drop(columns=['disease'])\n",
    "    # y = target (classes) of dataset\n",
    "    y = dataset['disease']\n",
    "    \n",
    "    # fit the model with the dataset using the Bernoulli classifier\n",
    "    model = BernoulliNB()\n",
    "    model.fit(X, y)\n",
    "    \n",
    "    # predict the target class (disease) for the user symptoms\n",
    "    result = model.predict(symptoms_list[0:1])[0]\n",
    "    # to get probabilities of all classes (diseases) for the user symptoms\n",
    "    # used to get probability of the symptoms indicating a disease\n",
    "    prob = pd.DataFrame(model.predict_proba(symptoms_list[0:1]), columns=model.classes_)\n",
    "    \n",
    "    # return value\n",
    "    output = \"\"\n",
    "    \n",
    "    # return disease with highest probability and the probability of that disease\n",
    "    if disease == \"All diseases\":\n",
    "        pred_disease = \"Based on the symptoms, the predicted disease is {}. The probability of your symptoms indicating {} is {}%\".format(result, result, prob.at[0,result]*100)\n",
    "        output = pred_disease\n",
    "    # return probability of specific disease selected by user\n",
    "    else:\n",
    "        specific_disease = \"The probability of your symptoms indicating {} is {}%\".format(disease,prob.at[0,disease]*100)\n",
    "        output = specific_disease\n",
    "    \n",
    "    return output"
   ]
  },
  {
   "cell_type": "markdown",
   "metadata": {},
   "source": [
    "### Sample Function Output"
   ]
  },
  {
   "cell_type": "markdown",
   "metadata": {},
   "source": [
    "- User enters symptoms and checks against 'All diseases'\n",
    "- Call NaiveBayes() function to see what the disease with the highest probability is"
   ]
  },
  {
   "cell_type": "code",
   "execution_count": 45,
   "metadata": {},
   "outputs": [
    {
     "name": "stdout",
     "output_type": "stream",
     "text": [
      "Based on the symptoms, the predicted disease is asthma. The probability of your symptoms indicating asthma is 38.795226368630445%\n"
     ]
    }
   ],
   "source": [
    "user_sym = \"cough, shortness of breath, wheezing\"\n",
    "print(NaiveBayes(user_sym, \"All diseases\"))"
   ]
  },
  {
   "cell_type": "markdown",
   "metadata": {},
   "source": [
    "----------------------------------------------------------------------------------------------------------------------\n",
    "- User enters symptoms and specific disease to check against (in this case, 'pneumonia')\n",
    "- Call NaiveBayes() function to see what the probability of that specific disease is"
   ]
  },
  {
   "cell_type": "code",
   "execution_count": 46,
   "metadata": {},
   "outputs": [
    {
     "name": "stdout",
     "output_type": "stream",
     "text": [
      "The probability of your symptoms indicating pneumonia is 4.849403296078814%\n"
     ]
    }
   ],
   "source": [
    "user_sym = \"cough, shortness of breath, wheezing\"\n",
    "print(NaiveBayes(user_sym, \"pneumonia\"))"
   ]
  }
 ],
 "metadata": {
  "kernelspec": {
   "display_name": "Python 3",
   "language": "python",
   "name": "python3"
  },
  "language_info": {
   "codemirror_mode": {
    "name": "ipython",
    "version": 3
   },
   "file_extension": ".py",
   "mimetype": "text/x-python",
   "name": "python",
   "nbconvert_exporter": "python",
   "pygments_lexer": "ipython3",
   "version": "3.8.3"
  }
 },
 "nbformat": 4,
 "nbformat_minor": 4
}
