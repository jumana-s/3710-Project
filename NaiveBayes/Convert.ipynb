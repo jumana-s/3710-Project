{
 "cells": [
  {
   "cell_type": "markdown",
   "metadata": {},
   "source": [
    "# Change user symptoms into binary values\n",
    "- User enters list of symptoms\n",
    "- Input should be so entered symptoms are 1 and rest are 0"
   ]
  },
  {
   "cell_type": "code",
   "execution_count": 1,
   "metadata": {},
   "outputs": [],
   "source": [
    "import pandas as pd"
   ]
  },
  {
   "cell_type": "markdown",
   "metadata": {},
   "source": [
    "### Load the data"
   ]
  },
  {
   "cell_type": "code",
   "execution_count": 2,
   "metadata": {},
   "outputs": [],
   "source": [
    "diseases = pd.read_csv('disease.csv')"
   ]
  },
  {
   "cell_type": "markdown",
   "metadata": {},
   "source": [
    "### Extract columns information (symptoms)\n",
    "- Assume last column has header 'disease' (ignore that column)"
   ]
  },
  {
   "cell_type": "code",
   "execution_count": 3,
   "metadata": {},
   "outputs": [
    {
     "name": "stdout",
     "output_type": "stream",
     "text": [
      "['cough', 'fever', 'shortness of breath', 'pain chest ', 'diarrhea', 'vomiting', 'unresponsiveness', 'asthenia', 'dyspnea', 'pain abdominal', 'vertigo ', 'apyrexial', 'sweat', 'nausea', 'dizziness', 'fall', 'syncope', 'palpitation', 'angina pectoris', 'hypokinesia', 'pressure chest', 'chest discomfort', 'orthopnea', 'chest tightness', 'jugular venous distention', 'rale', 'wheezing', 'pleuritic pain', 'distress respiratory', 'speech slurred', 'hypercapnia', 'sleeplessness', 'swelling', 'atypia', 'hypotension', 'pain', 'stool color yellow', 'systolic murmur', 'frail', 'hypoproteinemia', 'fatigue', 'haemorrhage', 'facial paresis', 'ambidexterity', 'numbness', 'splenomegaly', 'clonus', 'egophony', 'st segment elevation', 'arthralgia', 'muscle twitch', 'paralyse', 'low back pain', 'charleyhorse', 'paraparesis', 'gravida 0', 'mass in breast', 'tumor cell invasion', 'metastatic lesion', 'rhonchus', 'lung nodule', 'bleeding of vagina', 'hyperkalemia', 'bradycardia', 'cicatrisation', 'mediastinal shift', 'impaired cognition', 'snuffle', 'chill', 'headache', 'guaiac positive', 'decereased body weight', 'sore to touch']\n"
     ]
    }
   ],
   "source": [
    "columns = list(diseases.columns)[:-1]\n",
    "print(columns)\n",
    "\n",
    "total_sym = len(columns)"
   ]
  },
  {
   "cell_type": "markdown",
   "metadata": {},
   "source": [
    "### *Function to convert into list of 0s and 1s*"
   ]
  },
  {
   "cell_type": "code",
   "execution_count": 4,
   "metadata": {},
   "outputs": [],
   "source": [
    "def to_valid_list(user_sym_list):\n",
    "    if type(user_sym)!=list:\n",
    "        user_sym_list = to_list(user_sym_list)\n",
    "    valid_list = []\n",
    "    for i in range (0, total_sym-1):\n",
    "        if columns[i] in user_sym_list:\n",
    "            valid_list.append(1)\n",
    "        else:\n",
    "            valid_list.append(0)\n",
    "    return(valid_list)"
   ]
  },
  {
   "cell_type": "markdown",
   "metadata": {},
   "source": [
    "### *Function to convert string to array*"
   ]
  },
  {
   "cell_type": "code",
   "execution_count": 5,
   "metadata": {},
   "outputs": [],
   "source": [
    "def to_list(string):\n",
    "    user_sym_list = user_sym.split(\",\")\n",
    "    user_sym_list = [x.strip(' ') for x in user_sym_list]\n",
    "    return(user_sym_list)"
   ]
  },
  {
   "cell_type": "markdown",
   "metadata": {},
   "source": [
    "### Get User Symptoms List (input as a string, separated by commas)"
   ]
  },
  {
   "cell_type": "code",
   "execution_count": 11,
   "metadata": {},
   "outputs": [
    {
     "name": "stdout",
     "output_type": "stream",
     "text": [
      "ORIGINAL LIST: \n",
      " cough, mass in breast, hypercapnia, orthopnea \n",
      "\n",
      "NEW LIST: \n",
      " [1, 0, 0, 0, 0, 0, 0, 0, 0, 0, 0, 0, 0, 0, 0, 0, 0, 0, 0, 0, 0, 0, 1, 0, 0, 0, 0, 0, 0, 0, 1, 0, 0, 0, 0, 0, 0, 0, 0, 0, 0, 0, 0, 0, 0, 0, 0, 0, 0, 0, 0, 0, 0, 0, 0, 0, 1, 0, 0, 0, 0, 0, 0, 0, 0, 0, 0, 0, 0, 0, 0, 0]\n"
     ]
    }
   ],
   "source": [
    "user_sym = 'cough, mass in breast, hypercapnia, orthopnea'\n",
    "print(\"ORIGINAL LIST: \\n\", user_sym, \"\\n\")\n",
    "new_list = to_valid_list(user_sym)\n",
    "print(\"NEW LIST: \\n\", new_list)"
   ]
  },
  {
   "cell_type": "markdown",
   "metadata": {},
   "source": [
    "### Verify function returns the correct list"
   ]
  },
  {
   "cell_type": "code",
   "execution_count": 12,
   "metadata": {},
   "outputs": [
    {
     "name": "stdout",
     "output_type": "stream",
     "text": [
      "cough\n",
      "orthopnea\n",
      "hypercapnia\n",
      "mass in breast\n"
     ]
    }
   ],
   "source": [
    "for i in range(0, len(new_list)-1):\n",
    "    if new_list[i] == 1:\n",
    "        print(columns[i])"
   ]
  }
 ],
 "metadata": {
  "kernelspec": {
   "display_name": "Python 3",
   "language": "python",
   "name": "python3"
  },
  "language_info": {
   "codemirror_mode": {
    "name": "ipython",
    "version": 3
   },
   "file_extension": ".py",
   "mimetype": "text/x-python",
   "name": "python",
   "nbconvert_exporter": "python",
   "pygments_lexer": "ipython3",
   "version": "3.8.3"
  }
 },
 "nbformat": 4,
 "nbformat_minor": 4
}
